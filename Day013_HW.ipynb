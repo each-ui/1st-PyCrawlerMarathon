{
 "cells": [
  {
   "cell_type": "markdown",
   "metadata": {},
   "source": [
    "# PTT 網路爬蟲實作練習\n",
    "\n",
    "\n",
    "* 能夠利用 Request + BeatifulSour 撰寫爬蟲，並存放到合適的資料結構\n"
   ]
  },
  {
   "cell_type": "markdown",
   "metadata": {},
   "source": [
    "## 作業目標\n",
    "\n",
    "根據範例 ，完成以下問題：\n",
    "\n",
    "* ① 印出最新文章的「作者」「標題」「時間」\n",
    "* ② 印出第一頁所有文章的「作者」「標題」「時間」\n"
   ]
  },
  {
   "cell_type": "markdown",
   "metadata": {},
   "source": [
    "### ① 印出最新文章的「作者」「標題」「時間」"
   ]
  },
  {
   "cell_type": "code",
   "execution_count": 47,
   "metadata": {},
   "outputs": [
    {
     "data": {
      "text/plain": [
       "{'標題': '[花邊] 吹羊談落選奧運初選:說沒受打擊是騙人的',\n",
       " '作者': 'manuginobii (做愛校 果真累人)',\n",
       " '時間': 'Tue Feb 11 12:17:05 2020'}"
      ]
     },
     "execution_count": 47,
     "metadata": {},
     "output_type": "execute_result"
    }
   ],
   "source": [
    "import requests\n",
    "from bs4 import BeautifulSoup\n",
    "\n",
    "url = 'https://www.ptt.cc/bbs/NBA/index.html'\n",
    "\n",
    "r = requests.get(url)\n",
    "\n",
    "soup  = BeautifulSoup(r.text, 'html5lib')\n",
    "\n",
    "posts=[]\n",
    "\n",
    "for d in soup.find_all(class_=\"title\"):\n",
    "    try:\n",
    "        post = {}\n",
    "        post['標題'] = d.text.replace('\\t', '').replace('\\n', '')\n",
    "        \n",
    "        r = BeautifulSoup(requests.get('https://www.ptt.cc'+d.find('a')['href']).text, \"html5lib\")\n",
    "        post['作者'] = r.find(class_='article-meta-value').text\n",
    "        post['時間'] = r.find_all(class_='article-meta-value')[-1].text\n",
    "        \n",
    "        posts.append(post)\n",
    "    except:\n",
    "        continue\n",
    "posts = sorted(posts, key= lambda x: x['時間'])\n",
    "posts[-1]"
   ]
  },
  {
   "cell_type": "markdown",
   "metadata": {},
   "source": [
    "### ② 印出第一頁所有文章的「作者」「標題」「時間」"
   ]
  },
  {
   "cell_type": "code",
   "execution_count": 44,
   "metadata": {},
   "outputs": [
    {
     "name": "stdout",
     "output_type": "stream",
     "text": [
      "(本文已被刪除) [ghost069]\n",
      "[Live] 爵士 @ 獨行俠\n",
      "作者: Rambo (香帥)\n",
      "時間: Tue Feb 11 09:00:11 2020\n",
      "[Live] 馬刺 @ 金塊\n",
      "作者: Rambo (香帥)\n",
      "時間: Tue Feb 11 09:30:11 2020\n",
      "[新聞]  迎接寶貝兒子出生 安戴托昆波缺賽1場\n",
      "作者: zxc37298312 (張瑋航的老二)\n",
      "時間: Tue Feb 11 09:33:39 2020\n",
      "(本文已被刪除) [pneumo]\n",
      "[BOX ] Hornets 87:76 Pistons 數據\n",
      "[新聞] 勇士老闆：在和柯瑞續約之前會先組建最強球隊\n",
      "作者: currykukuo (陳菊濕汗)\n",
      "時間: Tue Feb 11 10:19:43 2020\n",
      "[BOX ] Hawks 126:135 Magic 數據\n",
      "[情報] 吉巴在IG上回鉛筆:我知道惡棍哪裡受歡迎\n",
      "作者: pneumo (超☆冒險蓋)\n",
      "時間: Tue Feb 11 10:24:05 2020\n",
      "[BOX ] Nets 106:105 Pacers 數據\n",
      "[情報] 湖人將會對D.Waiters的心態進行試探性\n",
      "作者: ghost069 (阿鬼)\n",
      "時間: Tue Feb 11 10:45:08 2020\n",
      "[情報] Iguodala:Morant是ROY，Dillon也很出色\n",
      "作者: seabox (吃貨盒盒)\n",
      "時間: Tue Feb 11 10:45:47 2020\n",
      "[Live] 熱火 @ 勇士\n",
      "作者: Rambo (香帥)\n",
      "時間: Tue Feb 11 11:00:11 2020\n",
      "[Live] 太陽 @ 湖人\n",
      "作者: Rambo (香帥)\n",
      "時間: Tue Feb 11 11:00:11 2020\n",
      "[BOX ] Timberwolves 126:137 Raptors 數據\n",
      "[花邊] 馬刺魂的傳承　助教鄧肯親自示範低位腳步\n",
      "作者: fukawa947 (交大薛之謙)\n",
      "時間: Tue Feb 11 11:20:08 2020\n",
      "[BOX ] Kings 111:123 Bucks 數據\n",
      "[花邊] 伊格達拉和格林賽前擁抱 相談甚歡\n",
      "作者: ghost069 (阿鬼)\n",
      "時間: Tue Feb 11 11:31:06 2020\n",
      "[BOX ] Jazz 123:119 Mavericks 數據\n",
      "[討論] 左撇子球員在場上最大的優勢是啥?\n",
      "作者: Ayanami5566 (綾波五六)\n",
      "時間: Tue Feb 11 12:14:11 2020\n",
      "[公告] 板規v6.8\n",
      "[公告] 樂透取消及未來不再開啟樂透\n",
      "作者: Vedan (味丹)\n",
      "時間: Mon Jun 24 15:08:02 2019\n",
      "[公告] 版主上任相關事項 \n",
      "作者: qazwsx879345 (Rajon Rondo)\n",
      "時間: Fri Oct 25 10:44:03 2019\n",
      "[情報] SEASON Schedule 賽程 February 19–20\n",
      "作者: Acetoxy (阿斯)\n",
      "時間: Fri Jan 31 22:36:43 2020\n"
     ]
    }
   ],
   "source": [
    "url = 'https://www.ptt.cc/bbs/NBA/index.html'\n",
    "\n",
    "r = requests.get(url)\n",
    "\n",
    "soup  = BeautifulSoup(r.text, 'html5lib')\n",
    "\n",
    "for d in soup.find_all(class_= 'title'):\n",
    "    try:\n",
    "        print(d.text.replace('\\t', '').replace('\\n', ''))\n",
    "        r = BeautifulSoup(requests.get('https://www.ptt.cc'+d.find('a')['href']).text, \"html5lib\")\n",
    "        print('作者: ' + r.find(class_='article-meta-value').text)\n",
    "        print('時間: ' + r.find_all(class_='article-meta-value')[-1].text)\n",
    "    except:\n",
    "        continue\n",
    "        "
   ]
  },
  {
   "cell_type": "markdown",
   "metadata": {},
   "source": [
    "### ③ 試著爬爬看其他版的文章"
   ]
  },
  {
   "cell_type": "code",
   "execution_count": 62,
   "metadata": {
    "scrolled": true
   },
   "outputs": [
    {
     "name": "stdout",
     "output_type": "stream",
     "text": [
      "Re: [情報] 2020冬季檔收視報告\n",
      "作者: dustfaerie (dustfaerie)\n",
      "時間: Mon Feb 10 09:50:42 2020\n",
      "Re: [情報] 19'秋冬晨間劇《緋紅》收視報告(雷)\n",
      "作者: dustfaerie (dustfaerie)\n",
      "時間: Mon Feb 10 10:00:47 2020\n",
      "[心得] 這個男人是我人生中最大的錯誤ep4\n",
      "作者: moonmeilove (Mei)\n",
      "時間: Mon Feb 10 14:05:53 2020\n",
      "[LIVE] 熟男不結婚 EP06\n",
      "作者: MikaHakkinen (一人中風，全家發瘋)\n",
      "時間: Mon Feb 10 16:21:04 2020\n",
      "[LIVE] 天皇御廚 EP07\n",
      "作者: MikaHakkinen (一人中風，全家發瘋)\n",
      "時間: Mon Feb 10 16:21:55 2020\n",
      "[情報] 緯來上周收視TOP10\n",
      "作者: laisharon (KaiRan-Van おもしろい)\n",
      "時間: Mon Feb 10 17:52:09 2020\n",
      "[心得] 這個男人是我人生中最大的錯誤 第4集\n",
      "作者: laisharon (KaiRan-Van おもしろい)\n",
      "時間: Mon Feb 10 20:59:52 2020\n",
      "[心得] 忒修斯之船 EP04\n",
      "作者: linchen1121 (綾月修一)\n",
      "時間: Mon Feb 10 21:34:08 2020\n",
      "[心得] 女高中生的虛度日常 EP03\n",
      "作者: hmt17 (Popo:(bﾟ▽ﾟ)b)\n",
      "時間: Mon Feb 10 22:06:23 2020\n",
      "[閒聊] (雷)緋紅 第十九週109 春天是邂逅的季節\n",
      "作者: chongfong (仲楓)\n",
      "時間: Mon Feb 10 22:13:00 2020\n",
      "[問題] 請別在病房裡誦經 第二話 森迫永依\n",
      "作者: jollybighead (快樂的大頭)\n",
      "時間: Tue Feb 11 05:23:22 2020\n",
      "[新聞] 多部未華子、4月期TBS火曜ドラマ『私の家\n",
      "作者: laisharon (KaiRan-Van おもしろい)\n",
      "時間: Tue Feb 11 07:48:50 2020\n",
      "[心得] WOWOW 因故住在火星 EP03\n",
      "作者: linchen1121 (綾月修一)\n",
      "時間: Tue Feb 11 11:00:56 2020\n",
      "[問題] 哪些刑事劇開會時會用毛筆寫會議名稱？\n",
      "作者: iphone15 (哀鳳15)\n",
      "時間: Tue Feb 11 12:27:20 2020\n",
      "[公告] 日劇版版規 2020.01.24 \n",
      "[公告] 2020年2月份違規處理暨版務交流區\n",
      "作者: coldeden (停 不要再靠近)\n",
      "時間: Sat Feb  1 15:21:42 2020\n",
      "[情報] 2020年2月份台灣播出日劇\n",
      "作者: laisharon (KaiRan-Van おもしろい)\n",
      "時間: Sun Feb  2 00:55:45 2020\n",
      "[公告] 置底閒聊區(2020冬 第二篇)\n",
      "作者: coldeden (停 不要再靠近)\n",
      "時間: Sun Jan 26 11:27:39 2020\n"
     ]
    }
   ],
   "source": [
    "url = 'https://www.ptt.cc/bbs/JapanDrama/index.html'\n",
    "r = requests.get(url)\n",
    "\n",
    "soup = BeautifulSoup(r.text, \"html5lib\")\n",
    "\n",
    "for d in soup.find_all(class_=\"title\"):\n",
    "    try:\n",
    "        print(d.text.replace('\\t', '').replace('\\n', ''))\n",
    "        r = BeautifulSoup(requests.get('https://www.ptt.cc'+d.find('a')['href']).text, \"html5lib\")\n",
    "        print('作者: ' + r.find(class_='article-meta-value').text)\n",
    "        print('時間: ' + r.find_all(class_='article-meta-value')[-1].text)\n",
    "    except:\n",
    "        continue"
   ]
  },
  {
   "cell_type": "code",
   "execution_count": 63,
   "metadata": {},
   "outputs": [
    {
     "data": {
      "text/plain": [
       "{'標題': '[問題] 哪些刑事劇開會時會用毛筆寫會議名稱？',\n",
       " '作者': 'iphone15 (哀鳳15)',\n",
       " '時間': 'Tue Feb 11 12:27:20 2020'}"
      ]
     },
     "execution_count": 63,
     "metadata": {},
     "output_type": "execute_result"
    }
   ],
   "source": [
    "posts=[]\n",
    "for d in soup.find_all(class_=\"title\"):\n",
    "    try:\n",
    "        post = {}\n",
    "        post['標題'] = d.text.replace('\\t', '').replace('\\n', '')\n",
    "        \n",
    "        r = BeautifulSoup(requests.get('https://www.ptt.cc'+d.find('a')['href']).text, \"html5lib\")\n",
    "        post['作者'] = r.find(class_='article-meta-value').text\n",
    "        post['時間'] = r.find_all(class_='article-meta-value')[-1].text\n",
    "        \n",
    "        posts.append(post)\n",
    "    except:\n",
    "        continue\n",
    "posts = sorted(posts, key= lambda x: x['時間'])\n",
    "posts[-1]\n"
   ]
  },
  {
   "cell_type": "code",
   "execution_count": null,
   "metadata": {},
   "outputs": [],
   "source": []
  }
 ],
 "metadata": {
  "kernelspec": {
   "display_name": "Python 3",
   "language": "python",
   "name": "python3"
  },
  "language_info": {
   "codemirror_mode": {
    "name": "ipython",
    "version": 3
   },
   "file_extension": ".py",
   "mimetype": "text/x-python",
   "name": "python",
   "nbconvert_exporter": "python",
   "pygments_lexer": "ipython3",
   "version": "3.7.3"
  }
 },
 "nbformat": 4,
 "nbformat_minor": 2
}
