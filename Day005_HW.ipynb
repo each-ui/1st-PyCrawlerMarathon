{
 "cells": [
  {
   "cell_type": "markdown",
   "metadata": {},
   "source": [
    "# API 資料串接 - 以 Dcard API 實作範例\n",
    "\n",
    "* 了解 Dcard API 使用方式與回傳內容\n",
    "* 撰寫程式存取 API 且解析 JSON 格式資料\n"
   ]
  },
  {
   "cell_type": "markdown",
   "metadata": {},
   "source": [
    "## 作業目標\n",
    "\n",
    "* 請利用 API: https://www.dcard.tw/_api/forums/pet/posts?popular=true 回答下列問題：\n",
    "\n",
    "1. 這個 API 一次會回傳幾筆資料？每一筆資料包含哪些欄位？\n",
    "2. 取出每一筆資料的「標題」、「貼文時間」、「留言人數」、「按讚人數」\n",
    "3. 計算熱門/非熱門文章的「平均留言人數」與「平均按讚人數」"
   ]
  },
  {
   "cell_type": "code",
   "execution_count": 47,
   "metadata": {},
   "outputs": [
    {
     "name": "stdout",
     "output_type": "stream",
     "text": [
      "30\n"
     ]
    }
   ],
   "source": [
    "# 1. 這個 API 一次會回傳幾筆資料？每一筆資料包含哪些欄位？\n",
    "\n",
    "import requests\n",
    "r = requests.get('https://www.dcard.tw/_api/forums/pet/posts?popular=true')\n",
    "response = r.text\n",
    "import json\n",
    "data = json.loads(response)\n",
    "print(len(data))"
   ]
  },
  {
   "cell_type": "code",
   "execution_count": 40,
   "metadata": {},
   "outputs": [
    {
     "name": "stdout",
     "output_type": "stream",
     "text": [
      "複製睡姿\n",
      "2020-02-02T04:12:31.982Z\n",
      "15\n",
      "710\n",
      "我不是狗啦\n",
      "2020-02-02T06:29:00.635Z\n",
      "9\n",
      "136\n",
      "給你們看看我的狗\n",
      "2020-02-02T15:55:30.483Z\n",
      "7\n",
      "72\n",
      "苦瓜\n",
      "2020-02-02T09:21:09.507Z\n",
      "2\n",
      "59\n",
      "同貓不同臉\n",
      "2020-02-02T13:34:34.215Z\n",
      "4\n",
      "50\n",
      "台南極品賓士貓送養 #愛滋貓\n",
      "2020-02-02T11:30:35.692Z\n",
      "5\n",
      "43\n",
      "被店貓燒到（續）\n",
      "2020-02-02T13:09:33.909Z\n",
      "3\n",
      "31\n",
      "玄鳳 彰化體育館 疑似走失\n",
      "2020-02-02T04:06:24.335Z\n",
      "1\n",
      "25\n",
      "遺棄小狗\n",
      "2020-02-02T15:10:36.139Z\n",
      "13\n",
      "20\n",
      "狗界傻白甜❤️ （圖多）\n",
      "2020-02-02T13:12:52.949Z\n",
      "1\n",
      "17\n",
      "新竹市立動物園\n",
      "2020-02-02T04:17:59.080Z\n",
      "2\n",
      "15\n",
      "懂享受的米米\n",
      "2020-02-02T07:34:40.658Z\n",
      "5\n",
      "14\n",
      "急！幫高調！！這是誰的狗\n",
      "2020-02-02T04:03:11.309Z\n",
      "0\n",
      "13\n",
      "呆萌的科基🐶🐶❤️\n",
      "2020-02-02T16:12:11.226Z\n",
      "2\n",
      "9\n",
      "領養狗狗的經驗之領養狗狗後要幹嘛？要準備什麼？\n",
      "2020-02-02T13:12:32.202Z\n",
      "1\n",
      "9\n",
      "麻吉喵生第一次賞櫻\n",
      "2020-02-02T04:43:17.738Z\n",
      "0\n",
      "8\n",
      "我覺得我家狗很可愛！還會幫我找逃家的老鼠！\n",
      "2020-02-03T04:18:02.181Z\n",
      "2\n",
      "7\n",
      "炫耀笨狗賣萌技能\n",
      "2020-02-02T17:23:15.554Z\n",
      "0\n",
      "7\n",
      "和大家分享我的蛙打嗝\n",
      "2020-02-02T16:34:12.436Z\n",
      "13\n",
      "7\n",
      "問，阿狗的心態？\n",
      "2020-02-02T15:29:02.213Z\n",
      "0\n",
      "7\n",
      "武漢垃圾殺貓男\n",
      "2020-02-02T10:22:11.347Z\n",
      "2\n",
      "7\n",
      "節分-金角橘\n",
      "2020-02-03T04:15:21.622Z\n",
      "1\n",
      "6\n",
      "嗨 來準備拍證件照囉🥳\n",
      "2020-02-02T16:53:42.955Z\n",
      "1\n",
      "6\n",
      "女友的狗狗皮膚泛紅（求救）\n",
      "2020-02-02T14:26:27.486Z\n",
      "6\n",
      "6\n",
      "新年禮物開箱🎉\n",
      "2020-02-02T15:41:08.092Z\n",
      "0\n",
      "5\n",
      "雞排護衛隊\n",
      "2020-02-03T05:44:59.524Z\n",
      "1\n",
      "4\n",
      "倉鼠與廚房紙巾\n",
      "2020-02-03T01:20:07.196Z\n",
      "5\n",
      "4\n",
      "到底是誰教你歪嘴笑跟wink！\n",
      "2020-02-02T19:33:21.899Z\n",
      "1\n",
      "4\n",
      "養龜新手🐢\n",
      "2020-02-02T18:16:48.255Z\n",
      "3\n",
      "4\n",
      "元宵節花燈\n",
      "2020-02-02T15:15:51.274Z\n",
      "2\n",
      "4\n"
     ]
    }
   ],
   "source": [
    "# 2. 取出每一筆資料的「標題」、「貼文時間」、「留言人數」、「按讚人數」\n",
    "for d in data:\n",
    "    print(d['title'])\n",
    "    print(d['createdAt'])\n",
    "    print(d['commentCount'])\n",
    "    print(d['likeCount'])"
   ]
  },
  {
   "cell_type": "code",
   "execution_count": 41,
   "metadata": {},
   "outputs": [
    {
     "name": "stdout",
     "output_type": "stream",
     "text": [
      "3.566666666666667 43.63333333333333\n"
     ]
    }
   ],
   "source": [
    "# 3. 計算熱門/非熱門文章的「平均留言人數」與「平均按讚人數」\n",
    "commentCount = 0\n",
    "likeCount = 0\n",
    "for d in data:\n",
    "    commentCount += d['commentCount']\n",
    "    likeCount += d['likeCount']\n",
    "\n",
    "print(commentCount/len(data), likeCount/len(data))"
   ]
  },
  {
   "cell_type": "code",
   "execution_count": 45,
   "metadata": {},
   "outputs": [
    {
     "name": "stdout",
     "output_type": "stream",
     "text": [
      "1.7 1.3333333333333333\n"
     ]
    }
   ],
   "source": [
    "r= requests.get('https://www.dcard.tw/_api/forums/job/posts?popular=false')\n",
    "response = r.text\n",
    "data = json.loads(response)\n",
    "commentCount = 0\n",
    "likeCount = 0\n",
    "for d in data:\n",
    "    commentCount += d['commentCount']\n",
    "    likeCount += d['likeCount']\n",
    "    \n",
    "print(commentCount/len(data), likeCount/len(data))"
   ]
  },
  {
   "cell_type": "code",
   "execution_count": null,
   "metadata": {},
   "outputs": [],
   "source": []
  },
  {
   "cell_type": "code",
   "execution_count": null,
   "metadata": {},
   "outputs": [],
   "source": []
  }
 ],
 "metadata": {
  "kernelspec": {
   "display_name": "Python 3",
   "language": "python",
   "name": "python3"
  },
  "language_info": {
   "codemirror_mode": {
    "name": "ipython",
    "version": 3
   },
   "file_extension": ".py",
   "mimetype": "text/x-python",
   "name": "python",
   "nbconvert_exporter": "python",
   "pygments_lexer": "ipython3",
   "version": "3.7.3"
  }
 },
 "nbformat": 4,
 "nbformat_minor": 2
}
